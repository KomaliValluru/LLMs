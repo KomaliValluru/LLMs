{
 "cells": [
  {
   "cell_type": "code",
   "execution_count": 1,
   "id": "5b863ddb",
   "metadata": {},
   "outputs": [
    {
     "name": "stdout",
     "output_type": "stream",
     "text": [
      "Collecting torch\n",
      "  Obtaining dependency information for torch from https://files.pythonhosted.org/packages/e4/ae/2ad8820045b6631965750435f28583e80905b8273d57cf026163b51323ee/torch-2.1.2-cp311-cp311-win_amd64.whl.metadata\n",
      "  Downloading torch-2.1.2-cp311-cp311-win_amd64.whl.metadata (26 kB)\n",
      "Requirement already satisfied: filelock in c:\\users\\18135\\anaconda3\\lib\\site-packages (from torch) (3.9.0)\n",
      "Requirement already satisfied: typing-extensions in c:\\users\\18135\\anaconda3\\lib\\site-packages (from torch) (4.7.1)\n",
      "Requirement already satisfied: sympy in c:\\users\\18135\\anaconda3\\lib\\site-packages (from torch) (1.11.1)\n",
      "Requirement already satisfied: networkx in c:\\users\\18135\\anaconda3\\lib\\site-packages (from torch) (3.1)\n",
      "Requirement already satisfied: jinja2 in c:\\users\\18135\\anaconda3\\lib\\site-packages (from torch) (3.1.2)\n",
      "Requirement already satisfied: fsspec in c:\\users\\18135\\anaconda3\\lib\\site-packages (from torch) (2023.4.0)\n",
      "Requirement already satisfied: MarkupSafe>=2.0 in c:\\users\\18135\\anaconda3\\lib\\site-packages (from jinja2->torch) (2.1.1)\n",
      "Requirement already satisfied: mpmath>=0.19 in c:\\users\\18135\\anaconda3\\lib\\site-packages (from sympy->torch) (1.3.0)\n",
      "Downloading torch-2.1.2-cp311-cp311-win_amd64.whl (192.3 MB)\n",
      "   ---------------------------------------- 0.0/192.3 MB ? eta -:--:--\n",
      "   ---------------------------------------- 0.0/192.3 MB ? eta -:--:--\n",
      "   ---------------------------------------- 0.0/192.3 MB 495.5 kB/s eta 0:06:29\n",
      "   ---------------------------------------- 0.5/192.3 MB 4.4 MB/s eta 0:00:44\n",
      "   ---------------------------------------- 1.4/192.3 MB 9.0 MB/s eta 0:00:22\n",
      "   ---------------------------------------- 2.0/192.3 MB 11.5 MB/s eta 0:00:17\n",
      "    --------------------------------------- 4.0/192.3 MB 17.0 MB/s eta 0:00:12\n",
      "   - -------------------------------------- 5.2/192.3 MB 17.4 MB/s eta 0:00:11\n",
      "   - -------------------------------------- 7.1/192.3 MB 20.7 MB/s eta 0:00:09\n",
      "   - -------------------------------------- 9.1/192.3 MB 23.3 MB/s eta 0:00:08\n",
      "   -- ------------------------------------- 10.7/192.3 MB 32.7 MB/s eta 0:00:06\n",
      "   -- ------------------------------------- 12.5/192.3 MB 38.6 MB/s eta 0:00:05\n",
      "   -- ------------------------------------- 13.1/192.3 MB 34.6 MB/s eta 0:00:06\n",
      "   --- ------------------------------------ 14.9/192.3 MB 32.8 MB/s eta 0:00:06\n",
      "   --- ------------------------------------ 16.3/192.3 MB 34.4 MB/s eta 0:00:06\n",
      "   --- ------------------------------------ 17.7/192.3 MB 32.8 MB/s eta 0:00:06\n",
      "   ---- ----------------------------------- 19.6/192.3 MB 32.7 MB/s eta 0:00:06\n",
      "   ---- ----------------------------------- 21.1/192.3 MB 32.7 MB/s eta 0:00:06\n",
      "   ---- ----------------------------------- 22.6/192.3 MB 31.2 MB/s eta 0:00:06\n",
      "   ----- ---------------------------------- 24.2/192.3 MB 34.4 MB/s eta 0:00:05\n",
      "   ----- ---------------------------------- 26.1/192.3 MB 34.6 MB/s eta 0:00:05\n",
      "   ----- ---------------------------------- 28.0/192.3 MB 36.4 MB/s eta 0:00:05\n",
      "   ------ --------------------------------- 29.9/192.3 MB 38.6 MB/s eta 0:00:05\n",
      "   ------ --------------------------------- 31.5/192.3 MB 36.4 MB/s eta 0:00:05\n",
      "   ------ --------------------------------- 33.4/192.3 MB 38.5 MB/s eta 0:00:05\n",
      "   ------- -------------------------------- 35.4/192.3 MB 38.5 MB/s eta 0:00:05\n",
      "   ------- -------------------------------- 36.9/192.3 MB 38.5 MB/s eta 0:00:05\n",
      "   -------- ------------------------------- 39.1/192.3 MB 36.4 MB/s eta 0:00:05\n",
      "   -------- ------------------------------- 40.3/192.3 MB 34.4 MB/s eta 0:00:05\n",
      "   -------- ------------------------------- 41.7/192.3 MB 34.4 MB/s eta 0:00:05\n",
      "   -------- ------------------------------- 43.0/192.3 MB 34.4 MB/s eta 0:00:05\n",
      "   --------- ------------------------------ 44.4/192.3 MB 32.8 MB/s eta 0:00:05\n",
      "   --------- ------------------------------ 45.2/192.3 MB 29.7 MB/s eta 0:00:05\n",
      "   --------- ------------------------------ 46.6/192.3 MB 29.7 MB/s eta 0:00:05\n",
      "   --------- ------------------------------ 47.0/192.3 MB 27.3 MB/s eta 0:00:06\n",
      "   --------- ------------------------------ 48.0/192.3 MB 27.3 MB/s eta 0:00:06\n",
      "   ---------- ----------------------------- 50.9/192.3 MB 31.2 MB/s eta 0:00:05\n",
      "   ---------- ----------------------------- 52.2/192.3 MB 31.2 MB/s eta 0:00:05\n",
      "   ----------- ---------------------------- 53.7/192.3 MB 32.7 MB/s eta 0:00:05\n",
      "   ----------- ---------------------------- 55.0/192.3 MB 32.7 MB/s eta 0:00:05\n",
      "   ----------- ---------------------------- 57.0/192.3 MB 36.3 MB/s eta 0:00:04\n",
      "   ------------ --------------------------- 58.2/192.3 MB 38.5 MB/s eta 0:00:04\n",
      "   ------------ --------------------------- 59.8/192.3 MB 38.5 MB/s eta 0:00:04\n",
      "   ------------ --------------------------- 61.7/192.3 MB 38.5 MB/s eta 0:00:04\n",
      "   ------------- -------------------------- 62.7/192.3 MB 36.3 MB/s eta 0:00:04\n",
      "   ------------- -------------------------- 63.7/192.3 MB 34.4 MB/s eta 0:00:04\n",
      "   ------------- -------------------------- 64.9/192.3 MB 34.4 MB/s eta 0:00:04\n",
      "   ------------- -------------------------- 66.4/192.3 MB 32.7 MB/s eta 0:00:04\n",
      "   -------------- ------------------------- 68.0/192.3 MB 32.7 MB/s eta 0:00:04\n",
      "   -------------- ------------------------- 69.4/192.3 MB 32.7 MB/s eta 0:00:04\n",
      "   -------------- ------------------------- 71.6/192.3 MB 34.4 MB/s eta 0:00:04\n",
      "   --------------- ------------------------ 73.1/192.3 MB 36.4 MB/s eta 0:00:04\n",
      "   --------------- ------------------------ 74.1/192.3 MB 36.3 MB/s eta 0:00:04\n",
      "   --------------- ------------------------ 75.7/192.3 MB 36.3 MB/s eta 0:00:04\n",
      "   ---------------- ----------------------- 77.3/192.3 MB 36.4 MB/s eta 0:00:04\n",
      "   ---------------- ----------------------- 78.8/192.3 MB 34.4 MB/s eta 0:00:04\n",
      "   ---------------- ----------------------- 80.5/192.3 MB 34.4 MB/s eta 0:00:04\n",
      "   ----------------- ---------------------- 82.6/192.3 MB 36.4 MB/s eta 0:00:04\n",
      "   ----------------- ---------------------- 84.2/192.3 MB 36.4 MB/s eta 0:00:03\n",
      "   ----------------- ---------------------- 85.7/192.3 MB 38.6 MB/s eta 0:00:03\n",
      "   ------------------ --------------------- 87.4/192.3 MB 40.9 MB/s eta 0:00:03\n",
      "   ------------------ --------------------- 89.1/192.3 MB 38.5 MB/s eta 0:00:03\n",
      "   ------------------ --------------------- 90.8/192.3 MB 38.5 MB/s eta 0:00:03\n",
      "   ------------------- -------------------- 92.3/192.3 MB 36.3 MB/s eta 0:00:03\n",
      "   ------------------- -------------------- 93.5/192.3 MB 36.4 MB/s eta 0:00:03\n",
      "   ------------------- -------------------- 94.6/192.3 MB 34.4 MB/s eta 0:00:03\n",
      "   -------------------- ------------------- 96.3/192.3 MB 36.4 MB/s eta 0:00:03\n",
      "   -------------------- ------------------- 97.8/192.3 MB 36.4 MB/s eta 0:00:03\n",
      "   -------------------- ------------------- 99.5/192.3 MB 36.4 MB/s eta 0:00:03\n",
      "   -------------------- ------------------ 100.6/192.3 MB 32.7 MB/s eta 0:00:03\n",
      "   -------------------- ------------------ 102.2/192.3 MB 36.4 MB/s eta 0:00:03\n",
      "   -------------------- ------------------ 103.2/192.3 MB 32.7 MB/s eta 0:00:03\n",
      "   --------------------- ----------------- 103.9/192.3 MB 32.8 MB/s eta 0:00:03\n",
      "   --------------------- ----------------- 104.9/192.3 MB 31.2 MB/s eta 0:00:03\n",
      "   --------------------- ----------------- 107.1/192.3 MB 34.4 MB/s eta 0:00:03\n",
      "   ---------------------- ---------------- 108.8/192.3 MB 32.7 MB/s eta 0:00:03\n",
      "   ---------------------- ---------------- 110.6/192.3 MB 34.4 MB/s eta 0:00:03\n",
      "   ---------------------- ---------------- 112.1/192.3 MB 34.4 MB/s eta 0:00:03\n",
      "   ----------------------- --------------- 113.9/192.3 MB 38.5 MB/s eta 0:00:03\n",
      "   ----------------------- --------------- 115.5/192.3 MB 43.7 MB/s eta 0:00:02\n",
      "   ----------------------- --------------- 116.9/192.3 MB 38.5 MB/s eta 0:00:02\n",
      "   ------------------------ -------------- 118.5/192.3 MB 40.9 MB/s eta 0:00:02\n",
      "   ------------------------ -------------- 118.9/192.3 MB 36.4 MB/s eta 0:00:03\n",
      "   ------------------------ -------------- 120.7/192.3 MB 34.4 MB/s eta 0:00:03\n",
      "   ------------------------ -------------- 122.2/192.3 MB 34.4 MB/s eta 0:00:03\n",
      "   ------------------------- ------------- 124.0/192.3 MB 34.4 MB/s eta 0:00:02\n",
      "   ------------------------- ------------- 126.0/192.3 MB 34.4 MB/s eta 0:00:02\n",
      "   ------------------------- ------------- 127.5/192.3 MB 34.4 MB/s eta 0:00:02\n",
      "   -------------------------- ------------ 129.4/192.3 MB 40.9 MB/s eta 0:00:02\n",
      "   -------------------------- ------------ 131.5/192.3 MB 38.5 MB/s eta 0:00:02\n",
      "   --------------------------- ----------- 133.3/192.3 MB 38.5 MB/s eta 0:00:02\n",
      "   --------------------------- ----------- 134.9/192.3 MB 38.6 MB/s eta 0:00:02\n",
      "   --------------------------- ----------- 136.4/192.3 MB 38.5 MB/s eta 0:00:02\n",
      "   --------------------------- ----------- 137.9/192.3 MB 38.6 MB/s eta 0:00:02\n",
      "   ---------------------------- ---------- 139.3/192.3 MB 38.6 MB/s eta 0:00:02\n",
      "   ---------------------------- ---------- 140.9/192.3 MB 36.4 MB/s eta 0:00:02\n",
      "   ---------------------------- ---------- 142.5/192.3 MB 36.4 MB/s eta 0:00:02\n",
      "   ----------------------------- --------- 143.6/192.3 MB 36.4 MB/s eta 0:00:02\n",
      "   ----------------------------- --------- 145.2/192.3 MB 36.4 MB/s eta 0:00:02\n",
      "   ----------------------------- --------- 146.6/192.3 MB 34.4 MB/s eta 0:00:02\n",
      "   ------------------------------ -------- 148.3/192.3 MB 32.8 MB/s eta 0:00:02\n",
      "   ------------------------------ -------- 150.2/192.3 MB 32.8 MB/s eta 0:00:02\n",
      "   ------------------------------ -------- 151.4/192.3 MB 32.7 MB/s eta 0:00:02\n",
      "   ------------------------------ -------- 151.8/192.3 MB 32.8 MB/s eta 0:00:02\n",
      "   ------------------------------- ------- 153.1/192.3 MB 29.8 MB/s eta 0:00:02\n",
      "   ------------------------------- ------- 154.8/192.3 MB 31.1 MB/s eta 0:00:02\n",
      "   ------------------------------- ------- 156.1/192.3 MB 29.8 MB/s eta 0:00:02\n",
      "   -------------------------------- ------ 157.9/192.3 MB 32.7 MB/s eta 0:00:02\n",
      "   -------------------------------- ------ 159.5/192.3 MB 31.2 MB/s eta 0:00:02\n",
      "   -------------------------------- ------ 161.3/192.3 MB 34.6 MB/s eta 0:00:01\n",
      "   --------------------------------- ----- 162.9/192.3 MB 36.4 MB/s eta 0:00:01\n",
      "   --------------------------------- ----- 163.5/192.3 MB 34.4 MB/s eta 0:00:01\n",
      "   --------------------------------- ----- 165.5/192.3 MB 29.7 MB/s eta 0:00:01\n",
      "   --------------------------------- ----- 165.7/192.3 MB 28.4 MB/s eta 0:00:01\n",
      "   ---------------------------------- ---- 167.9/192.3 MB 27.3 MB/s eta 0:00:01\n",
      "   ---------------------------------- ---- 169.2/192.3 MB 27.3 MB/s eta 0:00:01\n",
      "   ---------------------------------- ---- 170.6/192.3 MB 27.3 MB/s eta 0:00:01\n",
      "   ---------------------------------- ---- 172.1/192.3 MB 27.3 MB/s eta 0:00:01\n",
      "   ----------------------------------- --- 173.5/192.3 MB 28.4 MB/s eta 0:00:01\n",
      "   ----------------------------------- --- 175.1/192.3 MB 31.2 MB/s eta 0:00:01\n",
      "   ----------------------------------- --- 176.5/192.3 MB 34.4 MB/s eta 0:00:01\n",
      "   ------------------------------------ -- 177.8/192.3 MB 34.4 MB/s eta 0:00:01\n",
      "   ------------------------------------ -- 179.0/192.3 MB 32.8 MB/s eta 0:00:01\n",
      "   ------------------------------------ -- 180.3/192.3 MB 31.2 MB/s eta 0:00:01\n",
      "   ------------------------------------ -- 182.0/192.3 MB 34.4 MB/s eta 0:00:01\n",
      "   ------------------------------------- - 183.5/192.3 MB 34.6 MB/s eta 0:00:01\n",
      "   ------------------------------------- - 185.3/192.3 MB 34.4 MB/s eta 0:00:01\n",
      "   ------------------------------------- - 187.2/192.3 MB 34.4 MB/s eta 0:00:01\n",
      "   --------------------------------------  188.9/192.3 MB 36.4 MB/s eta 0:00:01\n",
      "   --------------------------------------  190.6/192.3 MB 36.4 MB/s eta 0:00:01\n",
      "   --------------------------------------  192.3/192.3 MB 38.6 MB/s eta 0:00:01\n",
      "   --------------------------------------  192.3/192.3 MB 38.6 MB/s eta 0:00:01\n",
      "   --------------------------------------  192.3/192.3 MB 38.6 MB/s eta 0:00:01\n",
      "   --------------------------------------  192.3/192.3 MB 38.6 MB/s eta 0:00:01\n",
      "   --------------------------------------  192.3/192.3 MB 38.6 MB/s eta 0:00:01\n",
      "   --------------------------------------  192.3/192.3 MB 38.6 MB/s eta 0:00:01\n",
      "   --------------------------------------  192.3/192.3 MB 38.6 MB/s eta 0:00:01\n",
      "   --------------------------------------  192.3/192.3 MB 38.6 MB/s eta 0:00:01\n",
      "   --------------------------------------  192.3/192.3 MB 38.6 MB/s eta 0:00:01\n",
      "   --------------------------------------  192.3/192.3 MB 38.6 MB/s eta 0:00:01\n",
      "   --------------------------------------  192.3/192.3 MB 38.6 MB/s eta 0:00:01\n",
      "   --------------------------------------  192.3/192.3 MB 38.6 MB/s eta 0:00:01\n",
      "   --------------------------------------  192.3/192.3 MB 38.6 MB/s eta 0:00:01\n",
      "   --------------------------------------  192.3/192.3 MB 38.6 MB/s eta 0:00:01\n",
      "   ---------------------------------------- 192.3/192.3 MB 9.1 MB/s eta 0:00:00\n",
      "Installing collected packages: torch\n",
      "Successfully installed torch-2.1.2\n",
      "Note: you may need to restart the kernel to use updated packages.\n"
     ]
    }
   ],
   "source": [
    "pip install torch"
   ]
  },
  {
   "cell_type": "code",
   "execution_count": 2,
   "id": "c3334991",
   "metadata": {},
   "outputs": [
    {
     "name": "stdout",
     "output_type": "stream",
     "text": [
      "Collecting tensorflow\n",
      "  Obtaining dependency information for tensorflow from https://files.pythonhosted.org/packages/93/21/9b035a4f823d6aee2917c75415be9a95861ff3d73a0a65e48edbf210cec1/tensorflow-2.15.0-cp311-cp311-win_amd64.whl.metadata\n",
      "  Downloading tensorflow-2.15.0-cp311-cp311-win_amd64.whl.metadata (3.6 kB)\n",
      "Collecting tensorflow-intel==2.15.0 (from tensorflow)\n",
      "  Obtaining dependency information for tensorflow-intel==2.15.0 from https://files.pythonhosted.org/packages/4c/48/1a5a15517f18eaa4ff8d598b1c000300b20c1bb0e624539d702117a0c369/tensorflow_intel-2.15.0-cp311-cp311-win_amd64.whl.metadata\n",
      "  Downloading tensorflow_intel-2.15.0-cp311-cp311-win_amd64.whl.metadata (5.1 kB)\n",
      "Collecting absl-py>=1.0.0 (from tensorflow-intel==2.15.0->tensorflow)\n",
      "  Obtaining dependency information for absl-py>=1.0.0 from https://files.pythonhosted.org/packages/01/e4/dc0a1dcc4e74e08d7abedab278c795eef54a224363bb18f5692f416d834f/absl_py-2.0.0-py3-none-any.whl.metadata\n",
      "  Downloading absl_py-2.0.0-py3-none-any.whl.metadata (2.3 kB)\n",
      "Collecting astunparse>=1.6.0 (from tensorflow-intel==2.15.0->tensorflow)\n",
      "  Downloading astunparse-1.6.3-py2.py3-none-any.whl (12 kB)\n",
      "Collecting flatbuffers>=23.5.26 (from tensorflow-intel==2.15.0->tensorflow)\n",
      "  Obtaining dependency information for flatbuffers>=23.5.26 from https://files.pythonhosted.org/packages/6f/12/d5c79ee252793ffe845d58a913197bfa02ae9a0b5c9bc3dc4b58d477b9e7/flatbuffers-23.5.26-py2.py3-none-any.whl.metadata\n",
      "  Downloading flatbuffers-23.5.26-py2.py3-none-any.whl.metadata (850 bytes)\n",
      "Collecting gast!=0.5.0,!=0.5.1,!=0.5.2,>=0.2.1 (from tensorflow-intel==2.15.0->tensorflow)\n",
      "  Downloading gast-0.5.4-py3-none-any.whl (19 kB)\n",
      "Collecting google-pasta>=0.1.1 (from tensorflow-intel==2.15.0->tensorflow)\n",
      "  Downloading google_pasta-0.2.0-py3-none-any.whl (57 kB)\n",
      "     ---------------------------------------- 0.0/57.5 kB ? eta -:--:--\n",
      "     ---------------------------------------- 57.5/57.5 kB 3.0 MB/s eta 0:00:00\n",
      "Requirement already satisfied: h5py>=2.9.0 in c:\\users\\18135\\anaconda3\\lib\\site-packages (from tensorflow-intel==2.15.0->tensorflow) (3.9.0)\n",
      "Collecting libclang>=13.0.0 (from tensorflow-intel==2.15.0->tensorflow)\n",
      "  Obtaining dependency information for libclang>=13.0.0 from https://files.pythonhosted.org/packages/02/8c/dc970bc00867fe290e8c8a7befa1635af716a9ebdfe3fb9dce0ca4b522ce/libclang-16.0.6-py2.py3-none-win_amd64.whl.metadata\n",
      "  Downloading libclang-16.0.6-py2.py3-none-win_amd64.whl.metadata (5.3 kB)\n",
      "Collecting ml-dtypes~=0.2.0 (from tensorflow-intel==2.15.0->tensorflow)\n",
      "  Obtaining dependency information for ml-dtypes~=0.2.0 from https://files.pythonhosted.org/packages/08/89/c727fde1a3d12586e0b8c01abf53754707d76beaa9987640e70807d4545f/ml_dtypes-0.2.0-cp311-cp311-win_amd64.whl.metadata\n",
      "  Downloading ml_dtypes-0.2.0-cp311-cp311-win_amd64.whl.metadata (20 kB)\n",
      "Requirement already satisfied: numpy<2.0.0,>=1.23.5 in c:\\users\\18135\\anaconda3\\lib\\site-packages (from tensorflow-intel==2.15.0->tensorflow) (1.24.3)\n",
      "Collecting opt-einsum>=2.3.2 (from tensorflow-intel==2.15.0->tensorflow)\n",
      "  Downloading opt_einsum-3.3.0-py3-none-any.whl (65 kB)\n",
      "     ---------------------------------------- 0.0/65.5 kB ? eta -:--:--\n",
      "     ---------------------------------------- 65.5/65.5 kB 3.5 MB/s eta 0:00:00\n",
      "Requirement already satisfied: packaging in c:\\users\\18135\\anaconda3\\lib\\site-packages (from tensorflow-intel==2.15.0->tensorflow) (23.1)\n",
      "Collecting protobuf!=4.21.0,!=4.21.1,!=4.21.2,!=4.21.3,!=4.21.4,!=4.21.5,<5.0.0dev,>=3.20.3 (from tensorflow-intel==2.15.0->tensorflow)\n",
      "  Obtaining dependency information for protobuf!=4.21.0,!=4.21.1,!=4.21.2,!=4.21.3,!=4.21.4,!=4.21.5,<5.0.0dev,>=3.20.3 from https://files.pythonhosted.org/packages/fe/6b/7f177e8d6fe4caa14f4065433af9f879d4fab84f0d17dcba7b407f6bd808/protobuf-4.25.1-cp310-abi3-win_amd64.whl.metadata\n",
      "  Downloading protobuf-4.25.1-cp310-abi3-win_amd64.whl.metadata (541 bytes)\n",
      "Requirement already satisfied: setuptools in c:\\users\\18135\\anaconda3\\lib\\site-packages (from tensorflow-intel==2.15.0->tensorflow) (68.0.0)\n",
      "Requirement already satisfied: six>=1.12.0 in c:\\users\\18135\\anaconda3\\lib\\site-packages (from tensorflow-intel==2.15.0->tensorflow) (1.16.0)\n",
      "Collecting termcolor>=1.1.0 (from tensorflow-intel==2.15.0->tensorflow)\n",
      "  Obtaining dependency information for termcolor>=1.1.0 from https://files.pythonhosted.org/packages/d9/5f/8c716e47b3a50cbd7c146f45881e11d9414def768b7cd9c5e6650ec2a80a/termcolor-2.4.0-py3-none-any.whl.metadata\n",
      "  Downloading termcolor-2.4.0-py3-none-any.whl.metadata (6.1 kB)\n",
      "Requirement already satisfied: typing-extensions>=3.6.6 in c:\\users\\18135\\anaconda3\\lib\\site-packages (from tensorflow-intel==2.15.0->tensorflow) (4.7.1)\n",
      "Requirement already satisfied: wrapt<1.15,>=1.11.0 in c:\\users\\18135\\anaconda3\\lib\\site-packages (from tensorflow-intel==2.15.0->tensorflow) (1.14.1)\n",
      "Collecting tensorflow-io-gcs-filesystem>=0.23.1 (from tensorflow-intel==2.15.0->tensorflow)\n",
      "  Downloading tensorflow_io_gcs_filesystem-0.31.0-cp311-cp311-win_amd64.whl (1.5 MB)\n",
      "     ---------------------------------------- 0.0/1.5 MB ? eta -:--:--\n",
      "     ------ --------------------------------- 0.2/1.5 MB 4.8 MB/s eta 0:00:01\n",
      "     ------------- -------------------------- 0.5/1.5 MB 5.1 MB/s eta 0:00:01\n",
      "     --------------------- ------------------ 0.8/1.5 MB 6.4 MB/s eta 0:00:01\n",
      "     ------------------------------- -------- 1.2/1.5 MB 6.8 MB/s eta 0:00:01\n",
      "     ---------------------------------------- 1.5/1.5 MB 7.2 MB/s eta 0:00:00\n",
      "Collecting grpcio<2.0,>=1.24.3 (from tensorflow-intel==2.15.0->tensorflow)\n",
      "  Obtaining dependency information for grpcio<2.0,>=1.24.3 from https://files.pythonhosted.org/packages/6a/b9/f94bea4c6f0e322a239f7ba66ba3b0ce766d1c6a2d50055f7c8acf0fba38/grpcio-1.60.0-cp311-cp311-win_amd64.whl.metadata\n",
      "  Downloading grpcio-1.60.0-cp311-cp311-win_amd64.whl.metadata (4.2 kB)\n",
      "Collecting tensorboard<2.16,>=2.15 (from tensorflow-intel==2.15.0->tensorflow)\n",
      "  Obtaining dependency information for tensorboard<2.16,>=2.15 from https://files.pythonhosted.org/packages/6e/0c/1059a6682cf2cc1fcc0d5327837b5672fe4f5574255fa5430d0a8ceb75e9/tensorboard-2.15.1-py3-none-any.whl.metadata\n",
      "  Downloading tensorboard-2.15.1-py3-none-any.whl.metadata (1.7 kB)\n",
      "Collecting tensorflow-estimator<2.16,>=2.15.0 (from tensorflow-intel==2.15.0->tensorflow)\n",
      "  Obtaining dependency information for tensorflow-estimator<2.16,>=2.15.0 from https://files.pythonhosted.org/packages/b6/c8/2f823c8958d5342eafc6dd3e922f0cc4fcf8c2e0460284cc462dae3b60a0/tensorflow_estimator-2.15.0-py2.py3-none-any.whl.metadata\n",
      "  Downloading tensorflow_estimator-2.15.0-py2.py3-none-any.whl.metadata (1.3 kB)\n",
      "Collecting keras<2.16,>=2.15.0 (from tensorflow-intel==2.15.0->tensorflow)\n",
      "  Obtaining dependency information for keras<2.16,>=2.15.0 from https://files.pythonhosted.org/packages/fc/a7/0d4490de967a67f68a538cc9cdb259bff971c4b5787f7765dc7c8f118f71/keras-2.15.0-py3-none-any.whl.metadata\n",
      "  Downloading keras-2.15.0-py3-none-any.whl.metadata (2.4 kB)\n",
      "Requirement already satisfied: wheel<1.0,>=0.23.0 in c:\\users\\18135\\anaconda3\\lib\\site-packages (from astunparse>=1.6.0->tensorflow-intel==2.15.0->tensorflow) (0.38.4)\n",
      "Collecting google-auth<3,>=1.6.3 (from tensorboard<2.16,>=2.15->tensorflow-intel==2.15.0->tensorflow)\n",
      "  Obtaining dependency information for google-auth<3,>=1.6.3 from https://files.pythonhosted.org/packages/93/54/180b2447607fb63c10ba4bed48044b71d112ca83496f96141b65eb278e37/google_auth-2.26.1-py2.py3-none-any.whl.metadata\n",
      "  Downloading google_auth-2.26.1-py2.py3-none-any.whl.metadata (4.7 kB)\n",
      "Collecting google-auth-oauthlib<2,>=0.5 (from tensorboard<2.16,>=2.15->tensorflow-intel==2.15.0->tensorflow)\n",
      "  Obtaining dependency information for google-auth-oauthlib<2,>=0.5 from https://files.pythonhosted.org/packages/71/bf/9e125754d1adb3bc4bd206c4e5df756513b1d23675ac06caa471278d1f3f/google_auth_oauthlib-1.2.0-py2.py3-none-any.whl.metadata\n",
      "  Downloading google_auth_oauthlib-1.2.0-py2.py3-none-any.whl.metadata (2.7 kB)\n",
      "Requirement already satisfied: markdown>=2.6.8 in c:\\users\\18135\\anaconda3\\lib\\site-packages (from tensorboard<2.16,>=2.15->tensorflow-intel==2.15.0->tensorflow) (3.4.1)\n",
      "Collecting protobuf!=4.21.0,!=4.21.1,!=4.21.2,!=4.21.3,!=4.21.4,!=4.21.5,<5.0.0dev,>=3.20.3 (from tensorflow-intel==2.15.0->tensorflow)\n",
      "  Obtaining dependency information for protobuf!=4.21.0,!=4.21.1,!=4.21.2,!=4.21.3,!=4.21.4,!=4.21.5,<5.0.0dev,>=3.20.3 from https://files.pythonhosted.org/packages/80/70/dc63d340d27b8ff22022d7dd14b8d6d68b479a003eacdc4507150a286d9a/protobuf-4.23.4-cp310-abi3-win_amd64.whl.metadata\n",
      "  Downloading protobuf-4.23.4-cp310-abi3-win_amd64.whl.metadata (540 bytes)\n",
      "Requirement already satisfied: requests<3,>=2.21.0 in c:\\users\\18135\\anaconda3\\lib\\site-packages (from tensorboard<2.16,>=2.15->tensorflow-intel==2.15.0->tensorflow) (2.31.0)\n",
      "Collecting tensorboard-data-server<0.8.0,>=0.7.0 (from tensorboard<2.16,>=2.15->tensorflow-intel==2.15.0->tensorflow)\n",
      "  Obtaining dependency information for tensorboard-data-server<0.8.0,>=0.7.0 from https://files.pythonhosted.org/packages/7a/13/e503968fefabd4c6b2650af21e110aa8466fe21432cd7c43a84577a89438/tensorboard_data_server-0.7.2-py3-none-any.whl.metadata\n",
      "  Downloading tensorboard_data_server-0.7.2-py3-none-any.whl.metadata (1.1 kB)\n",
      "Requirement already satisfied: werkzeug>=1.0.1 in c:\\users\\18135\\anaconda3\\lib\\site-packages (from tensorboard<2.16,>=2.15->tensorflow-intel==2.15.0->tensorflow) (2.2.3)\n",
      "Collecting cachetools<6.0,>=2.0.0 (from google-auth<3,>=1.6.3->tensorboard<2.16,>=2.15->tensorflow-intel==2.15.0->tensorflow)\n",
      "  Obtaining dependency information for cachetools<6.0,>=2.0.0 from https://files.pythonhosted.org/packages/a2/91/2d843adb9fbd911e0da45fbf6f18ca89d07a087c3daa23e955584f90ebf4/cachetools-5.3.2-py3-none-any.whl.metadata\n",
      "  Downloading cachetools-5.3.2-py3-none-any.whl.metadata (5.2 kB)\n",
      "Requirement already satisfied: pyasn1-modules>=0.2.1 in c:\\users\\18135\\anaconda3\\lib\\site-packages (from google-auth<3,>=1.6.3->tensorboard<2.16,>=2.15->tensorflow-intel==2.15.0->tensorflow) (0.2.8)\n",
      "Collecting rsa<5,>=3.1.4 (from google-auth<3,>=1.6.3->tensorboard<2.16,>=2.15->tensorflow-intel==2.15.0->tensorflow)\n",
      "  Downloading rsa-4.9-py3-none-any.whl (34 kB)\n",
      "Collecting requests-oauthlib>=0.7.0 (from google-auth-oauthlib<2,>=0.5->tensorboard<2.16,>=2.15->tensorflow-intel==2.15.0->tensorflow)\n",
      "  Downloading requests_oauthlib-1.3.1-py2.py3-none-any.whl (23 kB)\n",
      "Requirement already satisfied: charset-normalizer<4,>=2 in c:\\users\\18135\\anaconda3\\lib\\site-packages (from requests<3,>=2.21.0->tensorboard<2.16,>=2.15->tensorflow-intel==2.15.0->tensorflow) (2.0.4)\n",
      "Requirement already satisfied: idna<4,>=2.5 in c:\\users\\18135\\anaconda3\\lib\\site-packages (from requests<3,>=2.21.0->tensorboard<2.16,>=2.15->tensorflow-intel==2.15.0->tensorflow) (3.4)\n",
      "Requirement already satisfied: urllib3<3,>=1.21.1 in c:\\users\\18135\\anaconda3\\lib\\site-packages (from requests<3,>=2.21.0->tensorboard<2.16,>=2.15->tensorflow-intel==2.15.0->tensorflow) (1.26.16)\n",
      "Requirement already satisfied: certifi>=2017.4.17 in c:\\users\\18135\\anaconda3\\lib\\site-packages (from requests<3,>=2.21.0->tensorboard<2.16,>=2.15->tensorflow-intel==2.15.0->tensorflow) (2023.11.17)\n",
      "Requirement already satisfied: MarkupSafe>=2.1.1 in c:\\users\\18135\\anaconda3\\lib\\site-packages (from werkzeug>=1.0.1->tensorboard<2.16,>=2.15->tensorflow-intel==2.15.0->tensorflow) (2.1.1)\n",
      "Requirement already satisfied: pyasn1<0.5.0,>=0.4.6 in c:\\users\\18135\\anaconda3\\lib\\site-packages (from pyasn1-modules>=0.2.1->google-auth<3,>=1.6.3->tensorboard<2.16,>=2.15->tensorflow-intel==2.15.0->tensorflow) (0.4.8)\n",
      "Collecting oauthlib>=3.0.0 (from requests-oauthlib>=0.7.0->google-auth-oauthlib<2,>=0.5->tensorboard<2.16,>=2.15->tensorflow-intel==2.15.0->tensorflow)\n",
      "  Downloading oauthlib-3.2.2-py3-none-any.whl (151 kB)\n",
      "     ---------------------------------------- 0.0/151.7 kB ? eta -:--:--\n",
      "     -------------------------------------- 151.7/151.7 kB 8.8 MB/s eta 0:00:00\n",
      "Downloading tensorflow-2.15.0-cp311-cp311-win_amd64.whl (2.1 kB)\n",
      "Downloading tensorflow_intel-2.15.0-cp311-cp311-win_amd64.whl (300.9 MB)\n",
      "   ---------------------------------------- 0.0/300.9 MB ? eta -:--:--\n",
      "   ---------------------------------------- 0.5/300.9 MB 15.9 MB/s eta 0:00:19\n",
      "   ---------------------------------------- 1.1/300.9 MB 18.3 MB/s eta 0:00:17\n",
      "   ---------------------------------------- 1.9/300.9 MB 17.5 MB/s eta 0:00:18\n",
      "   ---------------------------------------- 2.6/300.9 MB 16.9 MB/s eta 0:00:18\n",
      "   ---------------------------------------- 3.5/300.9 MB 18.9 MB/s eta 0:00:16\n",
      "    --------------------------------------- 4.8/300.9 MB 20.5 MB/s eta 0:00:15\n",
      "    --------------------------------------- 5.9/300.9 MB 20.8 MB/s eta 0:00:15\n",
      "    --------------------------------------- 6.7/300.9 MB 20.5 MB/s eta 0:00:15\n",
      "    --------------------------------------- 7.2/300.9 MB 20.0 MB/s eta 0:00:15\n",
      "   - -------------------------------------- 8.2/300.9 MB 20.2 MB/s eta 0:00:15\n",
      "   - -------------------------------------- 9.2/300.9 MB 20.2 MB/s eta 0:00:15\n",
      "   - -------------------------------------- 10.4/300.9 MB 21.8 MB/s eta 0:00:14\n",
      "   - -------------------------------------- 11.6/300.9 MB 23.4 MB/s eta 0:00:13\n",
      "   - -------------------------------------- 13.2/300.9 MB 25.2 MB/s eta 0:00:12\n",
      "   - -------------------------------------- 14.6/300.9 MB 26.2 MB/s eta 0:00:11\n",
      "   -- ------------------------------------- 15.8/300.9 MB 26.2 MB/s eta 0:00:11\n",
      "   -- ------------------------------------- 16.8/300.9 MB 27.3 MB/s eta 0:00:11\n",
      "   -- ------------------------------------- 18.3/300.9 MB 29.7 MB/s eta 0:00:10\n",
      "   -- ------------------------------------- 20.1/300.9 MB 32.8 MB/s eta 0:00:09\n",
      "   -- ------------------------------------- 21.4/300.9 MB 34.4 MB/s eta 0:00:09\n",
      "   --- ------------------------------------ 23.0/300.9 MB 32.7 MB/s eta 0:00:09\n",
      "   --- ------------------------------------ 24.6/300.9 MB 34.4 MB/s eta 0:00:09\n",
      "   --- ------------------------------------ 25.8/300.9 MB 32.7 MB/s eta 0:00:09\n",
      "   --- ------------------------------------ 27.4/300.9 MB 34.4 MB/s eta 0:00:08\n",
      "   --- ------------------------------------ 29.1/300.9 MB 36.4 MB/s eta 0:00:08\n",
      "   ---- ----------------------------------- 30.2/300.9 MB 36.4 MB/s eta 0:00:08\n",
      "   ---- ----------------------------------- 31.3/300.9 MB 34.4 MB/s eta 0:00:08\n",
      "   ---- ----------------------------------- 32.8/300.9 MB 34.4 MB/s eta 0:00:08\n",
      "   ---- ----------------------------------- 34.2/300.9 MB 34.4 MB/s eta 0:00:08\n",
      "   ---- ----------------------------------- 35.7/300.9 MB 34.4 MB/s eta 0:00:08\n",
      "   ---- ----------------------------------- 37.3/300.9 MB 36.4 MB/s eta 0:00:08\n",
      "   ----- ---------------------------------- 39.0/300.9 MB 36.4 MB/s eta 0:00:08\n",
      "   ----- ---------------------------------- 41.0/300.9 MB 36.4 MB/s eta 0:00:08\n",
      "   ----- ---------------------------------- 42.7/300.9 MB 38.5 MB/s eta 0:00:07\n",
      "   ----- ---------------------------------- 44.7/300.9 MB 40.9 MB/s eta 0:00:07\n",
      "   ------ --------------------------------- 46.6/300.9 MB 40.9 MB/s eta 0:00:07\n",
      "   ------ --------------------------------- 48.3/300.9 MB 40.9 MB/s eta 0:00:07\n",
      "   ------ --------------------------------- 49.7/300.9 MB 43.7 MB/s eta 0:00:06\n",
      "   ------ --------------------------------- 51.5/300.9 MB 40.9 MB/s eta 0:00:07\n",
      "   ------- -------------------------------- 52.9/300.9 MB 38.5 MB/s eta 0:00:07\n",
      "   ------- -------------------------------- 54.6/300.9 MB 38.5 MB/s eta 0:00:07\n",
      "   ------- -------------------------------- 56.2/300.9 MB 38.5 MB/s eta 0:00:07\n",
      "   ------- -------------------------------- 58.0/300.9 MB 40.9 MB/s eta 0:00:06\n",
      "   ------- -------------------------------- 59.8/300.9 MB 38.5 MB/s eta 0:00:07\n",
      "   -------- ------------------------------- 61.5/300.9 MB 40.9 MB/s eta 0:00:06\n",
      "   -------- ------------------------------- 63.3/300.9 MB 43.5 MB/s eta 0:00:06\n",
      "   -------- ------------------------------- 65.1/300.9 MB 43.7 MB/s eta 0:00:06\n",
      "   -------- ------------------------------- 66.8/300.9 MB 43.5 MB/s eta 0:00:06\n",
      "   --------- ------------------------------ 68.2/300.9 MB 40.9 MB/s eta 0:00:06\n",
      "   --------- ------------------------------ 69.8/300.9 MB 40.9 MB/s eta 0:00:06\n",
      "   --------- ------------------------------ 71.0/300.9 MB 38.5 MB/s eta 0:00:06\n",
      "   --------- ------------------------------ 72.2/300.9 MB 38.5 MB/s eta 0:00:06\n",
      "   --------- ------------------------------ 73.4/300.9 MB 38.6 MB/s eta 0:00:06\n",
      "   --------- ------------------------------ 74.9/300.9 MB 36.4 MB/s eta 0:00:07\n",
      "   ---------- ----------------------------- 76.3/300.9 MB 34.4 MB/s eta 0:00:07\n",
      "   ---------- ----------------------------- 77.6/300.9 MB 34.4 MB/s eta 0:00:07\n",
      "   ---------- ----------------------------- 79.2/300.9 MB 32.7 MB/s eta 0:00:07\n",
      "   ---------- ----------------------------- 80.3/300.9 MB 32.8 MB/s eta 0:00:07\n",
      "   ---------- ----------------------------- 82.0/300.9 MB 32.7 MB/s eta 0:00:07\n",
      "   ----------- ---------------------------- 83.4/300.9 MB 32.7 MB/s eta 0:00:07\n",
      "   ----------- ---------------------------- 84.7/300.9 MB 34.4 MB/s eta 0:00:07\n",
      "   ----------- ---------------------------- 86.0/300.9 MB 34.4 MB/s eta 0:00:07\n",
      "   ----------- ---------------------------- 87.4/300.9 MB 34.4 MB/s eta 0:00:07\n",
      "   ----------- ---------------------------- 88.7/300.9 MB 32.8 MB/s eta 0:00:07\n",
      "   ----------- ---------------------------- 90.1/300.9 MB 34.4 MB/s eta 0:00:07\n",
      "   ------------ --------------------------- 91.4/300.9 MB 34.4 MB/s eta 0:00:07\n",
      "   ------------ --------------------------- 92.8/300.9 MB 36.4 MB/s eta 0:00:06\n",
      "   ------------ --------------------------- 94.4/300.9 MB 34.4 MB/s eta 0:00:06\n",
      "   ------------ --------------------------- 95.8/300.9 MB 34.4 MB/s eta 0:00:06\n",
      "   ------------ --------------------------- 97.3/300.9 MB 34.4 MB/s eta 0:00:06\n",
      "   ------------- -------------------------- 98.7/300.9 MB 32.7 MB/s eta 0:00:07\n",
      "   ------------- -------------------------- 99.9/300.9 MB 34.4 MB/s eta 0:00:06\n",
      "   ------------- ------------------------- 101.9/300.9 MB 34.4 MB/s eta 0:00:06\n",
      "   ------------- ------------------------- 103.2/300.9 MB 34.4 MB/s eta 0:00:06\n",
      "   ------------- ------------------------- 104.0/300.9 MB 31.2 MB/s eta 0:00:07\n",
      "   ------------- ------------------------- 105.2/300.9 MB 34.6 MB/s eta 0:00:06\n",
      "   ------------- ------------------------- 105.8/300.9 MB 31.2 MB/s eta 0:00:07\n",
      "   ------------- ------------------------- 107.3/300.9 MB 31.2 MB/s eta 0:00:07\n",
      "   -------------- ------------------------ 109.1/300.9 MB 32.8 MB/s eta 0:00:06\n",
      "   -------------- ------------------------ 111.2/300.9 MB 32.7 MB/s eta 0:00:06\n",
      "   -------------- ------------------------ 112.3/300.9 MB 31.2 MB/s eta 0:00:07\n",
      "   -------------- ------------------------ 113.5/300.9 MB 29.8 MB/s eta 0:00:07\n",
      "   -------------- ------------------------ 114.9/300.9 MB 28.5 MB/s eta 0:00:07\n",
      "   --------------- ----------------------- 116.4/300.9 MB 36.4 MB/s eta 0:00:06\n",
      "   --------------- ----------------------- 117.3/300.9 MB 29.7 MB/s eta 0:00:07\n",
      "   --------------- ----------------------- 118.5/300.9 MB 28.4 MB/s eta 0:00:07\n",
      "   --------------- ----------------------- 119.0/300.9 MB 27.3 MB/s eta 0:00:07\n",
      "   --------------- ----------------------- 120.4/300.9 MB 26.2 MB/s eta 0:00:07\n",
      "   --------------- ----------------------- 121.4/300.9 MB 25.2 MB/s eta 0:00:08\n",
      "   --------------- ----------------------- 122.4/300.9 MB 25.2 MB/s eta 0:00:08\n",
      "   --------------- ----------------------- 123.3/300.9 MB 25.2 MB/s eta 0:00:08\n",
      "   ---------------- ---------------------- 124.4/300.9 MB 25.2 MB/s eta 0:00:08\n",
      "   ---------------- ---------------------- 125.5/300.9 MB 24.2 MB/s eta 0:00:08\n",
      "   ---------------- ---------------------- 126.7/300.9 MB 23.4 MB/s eta 0:00:08\n",
      "   ---------------- ---------------------- 128.0/300.9 MB 24.2 MB/s eta 0:00:08\n",
      "   ---------------- ---------------------- 128.7/300.9 MB 24.2 MB/s eta 0:00:08\n",
      "   ---------------- ---------------------- 130.5/300.9 MB 27.3 MB/s eta 0:00:07\n",
      "   ----------------- --------------------- 132.1/300.9 MB 28.5 MB/s eta 0:00:06\n",
      "   ----------------- --------------------- 134.1/300.9 MB 31.2 MB/s eta 0:00:06\n",
      "   ----------------- --------------------- 135.8/300.9 MB 36.4 MB/s eta 0:00:05\n",
      "   ----------------- --------------------- 137.4/300.9 MB 38.6 MB/s eta 0:00:05\n",
      "   ------------------ -------------------- 139.3/300.9 MB 40.9 MB/s eta 0:00:04\n",
      "   ------------------ -------------------- 141.4/300.9 MB 40.9 MB/s eta 0:00:04\n",
      "   ------------------ -------------------- 142.8/300.9 MB 38.6 MB/s eta 0:00:05\n",
      "   ------------------ -------------------- 144.0/300.9 MB 38.5 MB/s eta 0:00:05\n",
      "   ------------------ -------------------- 144.5/300.9 MB 36.4 MB/s eta 0:00:05\n",
      "   ------------------ -------------------- 145.0/300.9 MB 36.3 MB/s eta 0:00:05\n",
      "   ------------------ -------------------- 145.9/300.9 MB 29.7 MB/s eta 0:00:06\n",
      "   ------------------- ------------------- 147.6/300.9 MB 29.7 MB/s eta 0:00:06\n",
      "   ------------------- ------------------- 150.5/300.9 MB 29.7 MB/s eta 0:00:06\n",
      "   ------------------- ------------------- 152.1/300.9 MB 31.2 MB/s eta 0:00:05\n",
      "   ------------------- ------------------- 153.6/300.9 MB 31.2 MB/s eta 0:00:05\n",
      "   -------------------- ------------------ 155.2/300.9 MB 32.8 MB/s eta 0:00:05\n",
      "   -------------------- ------------------ 156.7/300.9 MB 38.5 MB/s eta 0:00:04\n",
      "   -------------------- ------------------ 158.1/300.9 MB 36.4 MB/s eta 0:00:04\n",
      "   -------------------- ------------------ 159.2/300.9 MB 36.4 MB/s eta 0:00:04\n",
      "   -------------------- ------------------ 160.8/300.9 MB 34.4 MB/s eta 0:00:05\n",
      "   --------------------- ----------------- 162.6/300.9 MB 36.4 MB/s eta 0:00:04\n",
      "   --------------------- ----------------- 164.4/300.9 MB 36.4 MB/s eta 0:00:04\n",
      "   --------------------- ----------------- 165.7/300.9 MB 36.4 MB/s eta 0:00:04\n",
      "   --------------------- ----------------- 167.3/300.9 MB 36.4 MB/s eta 0:00:04\n",
      "   --------------------- ----------------- 168.7/300.9 MB 36.4 MB/s eta 0:00:04\n",
      "   ---------------------- ---------------- 170.3/300.9 MB 38.5 MB/s eta 0:00:04\n",
      "   ---------------------- ---------------- 171.5/300.9 MB 36.4 MB/s eta 0:00:04\n",
      "   ---------------------- ---------------- 172.7/300.9 MB 34.4 MB/s eta 0:00:04\n",
      "   ---------------------- ---------------- 173.9/300.9 MB 32.7 MB/s eta 0:00:04\n",
      "   ---------------------- ---------------- 174.9/300.9 MB 29.7 MB/s eta 0:00:05\n",
      "   ---------------------- ---------------- 176.2/300.9 MB 31.2 MB/s eta 0:00:04\n",
      "   ----------------------- --------------- 177.7/300.9 MB 31.2 MB/s eta 0:00:04\n",
      "   ----------------------- --------------- 179.7/300.9 MB 32.7 MB/s eta 0:00:04\n",
      "   ----------------------- --------------- 181.2/300.9 MB 32.7 MB/s eta 0:00:04\n",
      "   ----------------------- --------------- 183.0/300.9 MB 36.4 MB/s eta 0:00:04\n",
      "   ----------------------- --------------- 185.0/300.9 MB 40.9 MB/s eta 0:00:03\n",
      "   ------------------------ -------------- 186.3/300.9 MB 38.5 MB/s eta 0:00:03\n",
      "   ------------------------ -------------- 187.1/300.9 MB 38.5 MB/s eta 0:00:03\n",
      "   ------------------------ -------------- 188.2/300.9 MB 34.6 MB/s eta 0:00:04\n",
      "   ------------------------ -------------- 189.7/300.9 MB 34.4 MB/s eta 0:00:04\n",
      "   ------------------------ -------------- 191.4/300.9 MB 32.7 MB/s eta 0:00:04\n",
      "   ------------------------ -------------- 192.9/300.9 MB 32.7 MB/s eta 0:00:04\n",
      "   ------------------------- ------------- 194.6/300.9 MB 34.4 MB/s eta 0:00:04\n",
      "   ------------------------- ------------- 195.9/300.9 MB 31.1 MB/s eta 0:00:04\n",
      "   ------------------------- ------------- 197.6/300.9 MB 36.4 MB/s eta 0:00:03\n",
      "   ------------------------- ------------- 199.6/300.9 MB 40.9 MB/s eta 0:00:03\n",
      "   -------------------------- ------------ 201.1/300.9 MB 38.5 MB/s eta 0:00:03\n",
      "   -------------------------- ------------ 203.1/300.9 MB 38.6 MB/s eta 0:00:03\n",
      "   -------------------------- ------------ 204.9/300.9 MB 40.9 MB/s eta 0:00:03\n",
      "   -------------------------- ------------ 206.1/300.9 MB 38.6 MB/s eta 0:00:03\n",
      "   -------------------------- ------------ 207.4/300.9 MB 38.6 MB/s eta 0:00:03\n",
      "   --------------------------- ----------- 209.1/300.9 MB 38.6 MB/s eta 0:00:03\n",
      "   --------------------------- ----------- 211.1/300.9 MB 38.6 MB/s eta 0:00:03\n",
      "   --------------------------- ----------- 212.5/300.9 MB 36.4 MB/s eta 0:00:03\n",
      "   --------------------------- ----------- 213.5/300.9 MB 36.4 MB/s eta 0:00:03\n",
      "   --------------------------- ----------- 214.1/300.9 MB 32.8 MB/s eta 0:00:03\n",
      "   --------------------------- ----------- 215.4/300.9 MB 31.2 MB/s eta 0:00:03\n",
      "   ---------------------------- ---------- 216.7/300.9 MB 31.2 MB/s eta 0:00:03\n",
      "   ---------------------------- ---------- 218.3/300.9 MB 31.2 MB/s eta 0:00:03\n",
      "   ---------------------------- ---------- 219.5/300.9 MB 31.2 MB/s eta 0:00:03\n",
      "   ---------------------------- ---------- 221.2/300.9 MB 31.2 MB/s eta 0:00:03\n",
      "   ---------------------------- ---------- 222.6/300.9 MB 29.7 MB/s eta 0:00:03\n",
      "   ----------------------------- --------- 224.2/300.9 MB 32.8 MB/s eta 0:00:03\n",
      "   ----------------------------- --------- 225.8/300.9 MB 36.4 MB/s eta 0:00:03\n",
      "   ----------------------------- --------- 227.4/300.9 MB 36.4 MB/s eta 0:00:03\n",
      "   ----------------------------- --------- 228.9/300.9 MB 36.4 MB/s eta 0:00:02\n",
      "   ----------------------------- --------- 230.7/300.9 MB 36.4 MB/s eta 0:00:02\n",
      "   ------------------------------ -------- 232.3/300.9 MB 38.5 MB/s eta 0:00:02\n",
      "   ------------------------------ -------- 233.8/300.9 MB 36.3 MB/s eta 0:00:02\n",
      "   ------------------------------ -------- 235.4/300.9 MB 38.5 MB/s eta 0:00:02\n",
      "   ------------------------------ -------- 237.0/300.9 MB 38.5 MB/s eta 0:00:02\n",
      "   ------------------------------ -------- 238.1/300.9 MB 36.3 MB/s eta 0:00:02\n",
      "   ------------------------------- ------- 239.7/300.9 MB 34.4 MB/s eta 0:00:02\n",
      "   ------------------------------- ------- 241.1/300.9 MB 36.4 MB/s eta 0:00:02\n",
      "   ------------------------------- ------- 243.1/300.9 MB 36.3 MB/s eta 0:00:02\n",
      "   ------------------------------- ------- 244.7/300.9 MB 36.3 MB/s eta 0:00:02\n",
      "   ------------------------------- ------- 246.0/300.9 MB 36.4 MB/s eta 0:00:02\n",
      "   -------------------------------- ------ 247.6/300.9 MB 38.5 MB/s eta 0:00:02\n",
      "   -------------------------------- ------ 249.2/300.9 MB 36.3 MB/s eta 0:00:02\n",
      "   -------------------------------- ------ 250.6/300.9 MB 38.5 MB/s eta 0:00:02\n",
      "   -------------------------------- ------ 252.5/300.9 MB 36.4 MB/s eta 0:00:02\n",
      "   -------------------------------- ------ 254.3/300.9 MB 40.9 MB/s eta 0:00:02\n",
      "   --------------------------------- ----- 255.7/300.9 MB 36.4 MB/s eta 0:00:02\n",
      "   --------------------------------- ----- 257.2/300.9 MB 36.4 MB/s eta 0:00:02\n",
      "   --------------------------------- ----- 258.4/300.9 MB 36.3 MB/s eta 0:00:02\n",
      "   --------------------------------- ----- 260.0/300.9 MB 36.4 MB/s eta 0:00:02\n",
      "   --------------------------------- ----- 261.0/300.9 MB 36.3 MB/s eta 0:00:02\n",
      "   ---------------------------------- ---- 263.0/300.9 MB 34.4 MB/s eta 0:00:02\n",
      "   ---------------------------------- ---- 264.4/300.9 MB 32.8 MB/s eta 0:00:02\n",
      "   ---------------------------------- ---- 265.8/300.9 MB 34.4 MB/s eta 0:00:02\n",
      "   ---------------------------------- ---- 267.4/300.9 MB 34.4 MB/s eta 0:00:01\n",
      "   ---------------------------------- ---- 268.6/300.9 MB 31.2 MB/s eta 0:00:02\n",
      "   ---------------------------------- ---- 270.0/300.9 MB 32.7 MB/s eta 0:00:01\n",
      "   ----------------------------------- --- 271.5/300.9 MB 34.4 MB/s eta 0:00:01\n",
      "   ----------------------------------- --- 272.9/300.9 MB 34.4 MB/s eta 0:00:01\n",
      "   ----------------------------------- --- 274.4/300.9 MB 32.7 MB/s eta 0:00:01\n",
      "   ----------------------------------- --- 275.5/300.9 MB 34.4 MB/s eta 0:00:01\n",
      "   ----------------------------------- --- 277.3/300.9 MB 34.4 MB/s eta 0:00:01\n",
      "   ------------------------------------ -- 278.5/300.9 MB 34.4 MB/s eta 0:00:01\n",
      "   ------------------------------------ -- 279.4/300.9 MB 32.8 MB/s eta 0:00:01\n",
      "   ------------------------------------ -- 281.1/300.9 MB 32.8 MB/s eta 0:00:01\n",
      "   ------------------------------------ -- 282.5/300.9 MB 34.4 MB/s eta 0:00:01\n",
      "   ------------------------------------ -- 283.8/300.9 MB 32.8 MB/s eta 0:00:01\n",
      "   ------------------------------------ -- 285.1/300.9 MB 34.6 MB/s eta 0:00:01\n",
      "   ------------------------------------- - 286.5/300.9 MB 34.4 MB/s eta 0:00:01\n",
      "   ------------------------------------- - 287.9/300.9 MB 32.8 MB/s eta 0:00:01\n",
      "   ------------------------------------- - 289.3/300.9 MB 34.6 MB/s eta 0:00:01\n",
      "   ------------------------------------- - 290.4/300.9 MB 32.8 MB/s eta 0:00:01\n",
      "   ------------------------------------- - 292.2/300.9 MB 32.8 MB/s eta 0:00:01\n",
      "   --------------------------------------  293.6/300.9 MB 32.8 MB/s eta 0:00:01\n",
      "   --------------------------------------  295.4/300.9 MB 34.4 MB/s eta 0:00:01\n",
      "   --------------------------------------  297.0/300.9 MB 34.4 MB/s eta 0:00:01\n",
      "   --------------------------------------  298.3/300.9 MB 34.4 MB/s eta 0:00:01\n",
      "   --------------------------------------  299.6/300.9 MB 34.4 MB/s eta 0:00:01\n",
      "   --------------------------------------  300.7/300.9 MB 36.4 MB/s eta 0:00:01\n",
      "   --------------------------------------  300.9/300.9 MB 34.4 MB/s eta 0:00:01\n",
      "   --------------------------------------  300.9/300.9 MB 34.4 MB/s eta 0:00:01\n",
      "   --------------------------------------  300.9/300.9 MB 34.4 MB/s eta 0:00:01\n",
      "   --------------------------------------  300.9/300.9 MB 34.4 MB/s eta 0:00:01\n",
      "   --------------------------------------  300.9/300.9 MB 34.4 MB/s eta 0:00:01\n",
      "   --------------------------------------  300.9/300.9 MB 34.4 MB/s eta 0:00:01\n",
      "   --------------------------------------  300.9/300.9 MB 34.4 MB/s eta 0:00:01\n",
      "   --------------------------------------  300.9/300.9 MB 34.4 MB/s eta 0:00:01\n",
      "   --------------------------------------  300.9/300.9 MB 34.4 MB/s eta 0:00:01\n",
      "   --------------------------------------  300.9/300.9 MB 34.4 MB/s eta 0:00:01\n",
      "   --------------------------------------  300.9/300.9 MB 34.4 MB/s eta 0:00:01\n",
      "   --------------------------------------  300.9/300.9 MB 34.4 MB/s eta 0:00:01\n",
      "   --------------------------------------  300.9/300.9 MB 34.4 MB/s eta 0:00:01\n",
      "   --------------------------------------  300.9/300.9 MB 34.4 MB/s eta 0:00:01\n",
      "   --------------------------------------  300.9/300.9 MB 34.4 MB/s eta 0:00:01\n",
      "   --------------------------------------  300.9/300.9 MB 34.4 MB/s eta 0:00:01\n",
      "   --------------------------------------  300.9/300.9 MB 34.4 MB/s eta 0:00:01\n",
      "   --------------------------------------  300.9/300.9 MB 34.4 MB/s eta 0:00:01\n",
      "   ---------------------------------------- 300.9/300.9 MB 6.7 MB/s eta 0:00:00\n",
      "Downloading absl_py-2.0.0-py3-none-any.whl (130 kB)\n",
      "   ---------------------------------------- 0.0/130.2 kB ? eta -:--:--\n",
      "   ---------------------------------------- 130.2/130.2 kB 7.5 MB/s eta 0:00:00\n",
      "Downloading flatbuffers-23.5.26-py2.py3-none-any.whl (26 kB)\n",
      "Downloading grpcio-1.60.0-cp311-cp311-win_amd64.whl (3.7 MB)\n",
      "   ---------------------------------------- 0.0/3.7 MB ? eta -:--:--\n",
      "   --- ------------------------------------ 0.3/3.7 MB 19.8 MB/s eta 0:00:01\n",
      "   ------------------- -------------------- 1.8/3.7 MB 19.6 MB/s eta 0:00:01\n",
      "   ------------------------- -------------- 2.4/3.7 MB 18.8 MB/s eta 0:00:01\n",
      "   ------------------------- -------------- 2.4/3.7 MB 18.8 MB/s eta 0:00:01\n",
      "   ------------------------------------ --- 3.4/3.7 MB 15.5 MB/s eta 0:00:01\n",
      "   ---------------------------------------  3.7/3.7 MB 16.9 MB/s eta 0:00:01\n",
      "   ---------------------------------------- 3.7/3.7 MB 13.1 MB/s eta 0:00:00\n",
      "Downloading keras-2.15.0-py3-none-any.whl (1.7 MB)\n",
      "   ---------------------------------------- 0.0/1.7 MB ? eta -:--:--\n",
      "   --------------------------- ------------ 1.2/1.7 MB 37.0 MB/s eta 0:00:01\n",
      "   ---------------------------------------  1.7/1.7 MB 36.2 MB/s eta 0:00:01\n",
      "   ---------------------------------------- 1.7/1.7 MB 18.1 MB/s eta 0:00:00\n",
      "Downloading libclang-16.0.6-py2.py3-none-win_amd64.whl (24.4 MB)\n",
      "   ---------------------------------------- 0.0/24.4 MB ? eta -:--:--\n",
      "   -- ------------------------------------- 1.5/24.4 MB 47.9 MB/s eta 0:00:01\n",
      "   ----- ---------------------------------- 3.4/24.4 MB 43.3 MB/s eta 0:00:01\n",
      "   ------- -------------------------------- 4.6/24.4 MB 36.9 MB/s eta 0:00:01\n",
      "   ---------- ----------------------------- 6.3/24.4 MB 40.4 MB/s eta 0:00:01\n",
      "   ------------ --------------------------- 7.8/24.4 MB 38.6 MB/s eta 0:00:01\n",
      "   --------------- ------------------------ 9.5/24.4 MB 38.1 MB/s eta 0:00:01\n",
      "   ----------------- ---------------------- 11.0/24.4 MB 38.6 MB/s eta 0:00:01\n",
      "   ------------------- -------------------- 12.2/24.4 MB 38.5 MB/s eta 0:00:01\n",
      "   ----------------------- ---------------- 14.1/24.4 MB 38.6 MB/s eta 0:00:01\n",
      "   ------------------------- -------------- 15.8/24.4 MB 38.6 MB/s eta 0:00:01\n",
      "   ---------------------------- ----------- 17.5/24.4 MB 38.6 MB/s eta 0:00:01\n",
      "   ------------------------------- -------- 19.2/24.4 MB 40.9 MB/s eta 0:00:01\n",
      "   --------------------------------- ------ 20.7/24.4 MB 38.6 MB/s eta 0:00:01\n",
      "   ------------------------------------ --- 22.5/24.4 MB 40.9 MB/s eta 0:00:01\n",
      "   ---------------------------------------  24.0/24.4 MB 40.9 MB/s eta 0:00:01\n",
      "   ---------------------------------------  24.4/24.4 MB 38.5 MB/s eta 0:00:01\n",
      "   ---------------------------------------  24.4/24.4 MB 38.5 MB/s eta 0:00:01\n",
      "   ---------------------------------------- 24.4/24.4 MB 27.3 MB/s eta 0:00:00\n",
      "Downloading ml_dtypes-0.2.0-cp311-cp311-win_amd64.whl (938 kB)\n",
      "   ---------------------------------------- 0.0/938.7 kB ? eta -:--:--\n",
      "   --------------------------------------- 938.7/938.7 kB 19.8 MB/s eta 0:00:00\n",
      "Downloading tensorboard-2.15.1-py3-none-any.whl (5.5 MB)\n",
      "   ---------------------------------------- 0.0/5.5 MB ? eta -:--:--\n",
      "   ----------- ---------------------------- 1.6/5.5 MB 33.8 MB/s eta 0:00:01\n",
      "   ------------------------ --------------- 3.4/5.5 MB 42.9 MB/s eta 0:00:01\n",
      "   -------------------------------------- - 5.3/5.5 MB 42.4 MB/s eta 0:00:01\n",
      "   ---------------------------------------  5.5/5.5 MB 39.4 MB/s eta 0:00:01\n",
      "   ---------------------------------------- 5.5/5.5 MB 29.6 MB/s eta 0:00:00\n",
      "Downloading protobuf-4.23.4-cp310-abi3-win_amd64.whl (422 kB)\n",
      "   ---------------------------------------- 0.0/422.5 kB ? eta -:--:--\n",
      "    --------------------------------------- 10.2/422.5 kB ? eta -:--:--\n",
      "   ------ --------------------------------- 71.7/422.5 kB 1.3 MB/s eta 0:00:01\n",
      "   ---------------- ----------------------- 174.1/422.5 kB 1.7 MB/s eta 0:00:01\n",
      "   --------------------------------- ------ 358.4/422.5 kB 2.5 MB/s eta 0:00:01\n",
      "   ---------------------------------------- 422.5/422.5 kB 2.4 MB/s eta 0:00:00\n",
      "Downloading tensorflow_estimator-2.15.0-py2.py3-none-any.whl (441 kB)\n",
      "   ---------------------------------------- 0.0/442.0 kB ? eta -:--:--\n",
      "   --------------------------------------- 442.0/442.0 kB 27.0 MB/s eta 0:00:00\n",
      "Downloading termcolor-2.4.0-py3-none-any.whl (7.7 kB)\n",
      "Downloading google_auth-2.26.1-py2.py3-none-any.whl (186 kB)\n",
      "   ---------------------------------------- 0.0/186.4 kB ? eta -:--:--\n",
      "   --------------------------------------- 186.4/186.4 kB 11.0 MB/s eta 0:00:00\n",
      "Downloading google_auth_oauthlib-1.2.0-py2.py3-none-any.whl (24 kB)\n",
      "Downloading tensorboard_data_server-0.7.2-py3-none-any.whl (2.4 kB)\n",
      "Downloading cachetools-5.3.2-py3-none-any.whl (9.3 kB)\n",
      "Installing collected packages: libclang, flatbuffers, termcolor, tensorflow-io-gcs-filesystem, tensorflow-estimator, tensorboard-data-server, rsa, protobuf, opt-einsum, oauthlib, ml-dtypes, keras, grpcio, google-pasta, gast, cachetools, astunparse, absl-py, requests-oauthlib, google-auth, google-auth-oauthlib, tensorboard, tensorflow-intel, tensorflow\n",
      "Successfully installed absl-py-2.0.0 astunparse-1.6.3 cachetools-5.3.2 flatbuffers-23.5.26 gast-0.5.4 google-auth-2.26.1 google-auth-oauthlib-1.2.0 google-pasta-0.2.0 grpcio-1.60.0 keras-2.15.0 libclang-16.0.6 ml-dtypes-0.2.0 oauthlib-3.2.2 opt-einsum-3.3.0 protobuf-4.23.4 requests-oauthlib-1.3.1 rsa-4.9 tensorboard-2.15.1 tensorboard-data-server-0.7.2 tensorflow-2.15.0 tensorflow-estimator-2.15.0 tensorflow-intel-2.15.0 tensorflow-io-gcs-filesystem-0.31.0 termcolor-2.4.0\n",
      "Note: you may need to restart the kernel to use updated packages.\n"
     ]
    }
   ],
   "source": [
    "pip install tensorflow"
   ]
  },
  {
   "cell_type": "markdown",
   "id": "4bfd3d77",
   "metadata": {},
   "source": [
    "## Sentiment Analysis"
   ]
  },
  {
   "cell_type": "code",
   "execution_count": 1,
   "id": "c70172b5",
   "metadata": {},
   "outputs": [
    {
     "name": "stdout",
     "output_type": "stream",
     "text": [
      "WARNING:tensorflow:From C:\\Users\\18135\\anaconda3\\Lib\\site-packages\\keras\\src\\losses.py:2976: The name tf.losses.sparse_softmax_cross_entropy is deprecated. Please use tf.compat.v1.losses.sparse_softmax_cross_entropy instead.\n",
      "\n"
     ]
    },
    {
     "name": "stderr",
     "output_type": "stream",
     "text": [
      "No model was supplied, defaulted to distilbert-base-uncased-finetuned-sst-2-english and revision af0f99b (https://huggingface.co/distilbert-base-uncased-finetuned-sst-2-english).\n",
      "Using a pipeline without specifying a model name and revision in production is not recommended.\n"
     ]
    },
    {
     "data": {
      "application/vnd.jupyter.widget-view+json": {
       "model_id": "4a81ffb296404a4d91f9ff9af33ce127",
       "version_major": 2,
       "version_minor": 0
      },
      "text/plain": [
       "Downloading config.json:   0%|          | 0.00/629 [00:00<?, ?B/s]"
      ]
     },
     "metadata": {},
     "output_type": "display_data"
    },
    {
     "name": "stderr",
     "output_type": "stream",
     "text": [
      "C:\\Users\\18135\\anaconda3\\Lib\\site-packages\\huggingface_hub\\file_download.py:133: UserWarning: `huggingface_hub` cache-system uses symlinks by default to efficiently store duplicated files but your machine does not support them in C:\\Users\\18135\\.cache\\huggingface\\hub. Caching files will still work but in a degraded version that might require more space on your disk. This warning can be disabled by setting the `HF_HUB_DISABLE_SYMLINKS_WARNING` environment variable. For more details, see https://huggingface.co/docs/huggingface_hub/how-to-cache#limitations.\n",
      "To support symlinks on Windows, you either need to activate Developer Mode or to run Python as an administrator. In order to see activate developer mode, see this article: https://docs.microsoft.com/en-us/windows/apps/get-started/enable-your-device-for-development\n",
      "  warnings.warn(message)\n"
     ]
    },
    {
     "data": {
      "application/vnd.jupyter.widget-view+json": {
       "model_id": "5dce22c0650a494da0ffc951f671a9de",
       "version_major": 2,
       "version_minor": 0
      },
      "text/plain": [
       "Downloading model.safetensors:   0%|          | 0.00/268M [00:00<?, ?B/s]"
      ]
     },
     "metadata": {},
     "output_type": "display_data"
    },
    {
     "data": {
      "application/vnd.jupyter.widget-view+json": {
       "model_id": "195d47cebe2a46b2ad92d955cb830fa5",
       "version_major": 2,
       "version_minor": 0
      },
      "text/plain": [
       "Downloading tokenizer_config.json:   0%|          | 0.00/48.0 [00:00<?, ?B/s]"
      ]
     },
     "metadata": {},
     "output_type": "display_data"
    },
    {
     "data": {
      "application/vnd.jupyter.widget-view+json": {
       "model_id": "4562b72243a749eca31b73c3051ff49f",
       "version_major": 2,
       "version_minor": 0
      },
      "text/plain": [
       "Downloading vocab.txt:   0%|          | 0.00/232k [00:00<?, ?B/s]"
      ]
     },
     "metadata": {},
     "output_type": "display_data"
    }
   ],
   "source": [
    "from transformers import pipeline\n",
    "classifier = pipeline(\"sentiment-analysis\")"
   ]
  },
  {
   "cell_type": "code",
   "execution_count": 2,
   "id": "fe129e92",
   "metadata": {},
   "outputs": [
    {
     "data": {
      "text/plain": [
       "[{'label': 'POSITIVE', 'score': 0.9998836517333984}]"
      ]
     },
     "execution_count": 2,
     "metadata": {},
     "output_type": "execute_result"
    }
   ],
   "source": [
    "classifier('What a wonderful day')"
   ]
  },
  {
   "cell_type": "markdown",
   "id": "58b4c507",
   "metadata": {},
   "source": [
    "### Passing Multiple prompts to classifier as list gives output in dictionary"
   ]
  },
  {
   "cell_type": "code",
   "execution_count": 5,
   "id": "a38d6f48",
   "metadata": {},
   "outputs": [
    {
     "data": {
      "text/plain": [
       "[{'label': 'NEGATIVE', 'score': 0.9996179342269897},\n",
       " {'label': 'POSITIVE', 'score': 0.8077239990234375},\n",
       " {'label': 'POSITIVE', 'score': 0.9997274279594421}]"
      ]
     },
     "execution_count": 5,
     "metadata": {},
     "output_type": "execute_result"
    }
   ],
   "source": [
    "prompt=['I hate this book','I am almost done with my Masters, I have learnt a lot','I love to spend time with my cat']\n",
    "classifier(prompt)"
   ]
  },
  {
   "cell_type": "markdown",
   "id": "52eb0570",
   "metadata": {},
   "source": [
    "### Using pre-trained models from HuggingFace\n",
    "I am using it as high level helper and not importing the model directly"
   ]
  },
  {
   "cell_type": "code",
   "execution_count": 7,
   "id": "e42e4363",
   "metadata": {},
   "outputs": [
    {
     "data": {
      "application/vnd.jupyter.widget-view+json": {
       "model_id": "8a2cbb18cd634d409218e14446f0239d",
       "version_major": 2,
       "version_minor": 0
      },
      "text/plain": [
       "Downloading config.json:   0%|          | 0.00/1.92k [00:00<?, ?B/s]"
      ]
     },
     "metadata": {},
     "output_type": "display_data"
    },
    {
     "data": {
      "application/vnd.jupyter.widget-view+json": {
       "model_id": "8957a1e5b6ff43e288c4403bdaf570f4",
       "version_major": 2,
       "version_minor": 0
      },
      "text/plain": [
       "Downloading model.safetensors:   0%|          | 0.00/499M [00:00<?, ?B/s]"
      ]
     },
     "metadata": {},
     "output_type": "display_data"
    },
    {
     "data": {
      "application/vnd.jupyter.widget-view+json": {
       "model_id": "ce33df257e1d4c4aa78d67fbbd126fb8",
       "version_major": 2,
       "version_minor": 0
      },
      "text/plain": [
       "Downloading tokenizer_config.json:   0%|          | 0.00/380 [00:00<?, ?B/s]"
      ]
     },
     "metadata": {},
     "output_type": "display_data"
    },
    {
     "data": {
      "application/vnd.jupyter.widget-view+json": {
       "model_id": "77a8af008256433094733eabb8af243a",
       "version_major": 2,
       "version_minor": 0
      },
      "text/plain": [
       "Downloading vocab.json:   0%|          | 0.00/798k [00:00<?, ?B/s]"
      ]
     },
     "metadata": {},
     "output_type": "display_data"
    },
    {
     "data": {
      "application/vnd.jupyter.widget-view+json": {
       "model_id": "011b59da453c42109c0c87bfd6f22235",
       "version_major": 2,
       "version_minor": 0
      },
      "text/plain": [
       "Downloading merges.txt:   0%|          | 0.00/456k [00:00<?, ?B/s]"
      ]
     },
     "metadata": {},
     "output_type": "display_data"
    },
    {
     "data": {
      "application/vnd.jupyter.widget-view+json": {
       "model_id": "12574dbe6992401fba433210f2ac0600",
       "version_major": 2,
       "version_minor": 0
      },
      "text/plain": [
       "Downloading tokenizer.json:   0%|          | 0.00/2.11M [00:00<?, ?B/s]"
      ]
     },
     "metadata": {},
     "output_type": "display_data"
    },
    {
     "data": {
      "application/vnd.jupyter.widget-view+json": {
       "model_id": "cb5d19fdf1264f0b88b61981b9d7eb58",
       "version_major": 2,
       "version_minor": 0
      },
      "text/plain": [
       "Downloading (…)cial_tokens_map.json:   0%|          | 0.00/280 [00:00<?, ?B/s]"
      ]
     },
     "metadata": {},
     "output_type": "display_data"
    }
   ],
   "source": [
    "pipe = pipeline(\"text-classification\", model=\"SamLowe/roberta-base-go_emotions\")"
   ]
  },
  {
   "cell_type": "code",
   "execution_count": 8,
   "id": "5ffe0c74",
   "metadata": {},
   "outputs": [
    {
     "data": {
      "text/plain": [
       "[{'label': 'annoyance', 'score': 0.2891601324081421}]"
      ]
     },
     "execution_count": 8,
     "metadata": {},
     "output_type": "execute_result"
    }
   ],
   "source": [
    "pipe('How ungrateful can you be?')"
   ]
  },
  {
   "cell_type": "code",
   "execution_count": 10,
   "id": "d1c61651",
   "metadata": {},
   "outputs": [
    {
     "data": {
      "text/plain": [
       "[{'label': 'disapproval', 'score': 0.6340829133987427},\n",
       " {'label': 'love', 'score': 0.9565239548683167},\n",
       " {'label': 'caring', 'score': 0.8449496626853943},\n",
       " {'label': 'optimism', 'score': 0.39558449387550354}]"
      ]
     },
     "execution_count": 10,
     "metadata": {},
     "output_type": "execute_result"
    }
   ],
   "source": [
    "prompt=['I cannot let it happen','I am feeling loved','I will always be with you','I am going to learn it']\n",
    "pipe(prompt)"
   ]
  },
  {
   "cell_type": "code",
   "execution_count": null,
   "id": "7403ffe1",
   "metadata": {},
   "outputs": [],
   "source": []
  }
 ],
 "metadata": {
  "kernelspec": {
   "display_name": "Python 3 (ipykernel)",
   "language": "python",
   "name": "python3"
  },
  "language_info": {
   "codemirror_mode": {
    "name": "ipython",
    "version": 3
   },
   "file_extension": ".py",
   "mimetype": "text/x-python",
   "name": "python",
   "nbconvert_exporter": "python",
   "pygments_lexer": "ipython3",
   "version": "3.11.5"
  }
 },
 "nbformat": 4,
 "nbformat_minor": 5
}
